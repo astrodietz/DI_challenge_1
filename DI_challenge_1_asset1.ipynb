{
 "cells": [
  {
   "cell_type": "markdown",
   "metadata": {},
   "source": [
    "do you have trouble finding skincare products that work for you?\n",
    "\n",
    "run the cells below to get new product recommendations similar to what you already love."
   ]
  },
  {
   "cell_type": "code",
   "execution_count": 1,
   "metadata": {},
   "outputs": [],
   "source": [
    "#load all the important stuff\n",
    "import difflib\n",
    "import numpy as np\n",
    "import pandas as pd\n",
    "from difflib import SequenceMatcher\n",
    "\n",
    "from IPython.display import Image\n",
    "import requests\n",
    "import IPython.display as Disp\n",
    "\n",
    "#load product database\n",
    "product_file='ulta.csv'\n",
    "product_db=pd.read_csv(product_file)\n",
    "\n",
    "#combine brand + product name\n",
    "brand_plus_name=[str(product_db['brand'].loc[i])+' '+str(product_db['name'].loc[i]) for i in range(0,len(product_db))]\n",
    "product_db['name']=brand_plus_name"
   ]
  },
  {
   "cell_type": "code",
   "execution_count": 2,
   "metadata": {},
   "outputs": [
    {
     "name": "stdout",
     "output_type": "stream",
     "text": [
      "please enter a product name below:\n",
      "vitamin c serum\n",
      "\n",
      "product not found, did you mean:\n",
      "     mad hippie vitamin c serum\n",
      "     hanskin vitamin c glow serum\n",
      "     mad hippie vitamin a serum\n",
      "\n",
      "     strivectin travel size super-c retinol brighten & correct vitamin c serum\n",
      "     cerave skin renewing vitamin c serum\n",
      "     mario badescu vitamin c serum\n",
      "     mad hippie vitamin c serum\n",
      "     strivectin super-c retinol brighten & correct vitamin c serum\n",
      "\n",
      "please re-enter your query below:\n",
      "cerave skin renewing vitamin c serum\n",
      "\n",
      "product found!\n",
      "\n",
      "your chosen product: cerave skin renewing vitamin c serum (Price$24.99)\n",
      "\n",
      "ingredients:\n",
      "Aqua/Water/Eau, Ascorbic Acid, Glycerin, Dimethicone, Cetearyl Ethylhexanoate, Alcohol Denat., Sodium Hydroxide, Ammonium Polyacryloyldimethyl Taurate, Panthenol, Ceramide Np, Ceramide Ap, Ceramide Eop, Carbomer, Cetearyl Alcohol, Behentrimonium Methosulfate, Sodium Hyaluronate, Sodium Lauroyl Lactylate, Cholesterol, Phenoxyethanol, Tocopheryl Acetate, Disodium Edta, Isopropyl Myristate, Caprylyl Glycol, Xanthan Gum, Phytosphingosine, Ethylhexylglycerin.\n",
      "\n"
     ]
    },
    {
     "data": {
      "image/jpeg": "[encoded data removed]",
      "text/plain": [
       "<IPython.core.display.Image object>"
      ]
     },
     "execution_count": 2,
     "metadata": {
      "image/jpeg": {
       "height": 100,
       "width": 100
      }
     },
     "output_type": "execute_result"
    }
   ],
   "source": [
    "#user inputs product name\n",
    "print 'please enter a product name below:'\n",
    "nameA=raw_input()\n",
    "nameA=nameA.lower()\n",
    "print ''\n",
    "\n",
    "name_list=[str(product_db['name'].loc[i]).lower() for i in range(0,len(product_db))]\n",
    "\n",
    "#if product not found, suggest similar product names, ask user to re-enter input\n",
    "if(nameA not in name_list):\n",
    "    \n",
    "    #loop until a valid name is entered\n",
    "    match=False\n",
    "    while(match==False):\n",
    "        \n",
    "        #suggestions for similar product names\n",
    "        possible_matches=difflib.get_close_matches(nameA,name_list)\n",
    "        contains=[name_list[i] for i in range(0,len(name_list)) if nameA in name_list[i]]\n",
    "        \n",
    "        if((len(possible_matches)>0) or (len(contains)>0)):\n",
    "            print 'product not found, did you mean:'.format()\n",
    "            for name in possible_matches:\n",
    "                print '     {}'.format(name)\n",
    "            print ''\n",
    "            for name in contains:\n",
    "                print '     {}'.format(name)\n",
    "        else:\n",
    "            print 'sorry, no matching products found'\n",
    "            \n",
    "        print ''\n",
    "        print 'please re-enter your query below:'\n",
    "        nameA=raw_input()\n",
    "        if(nameA in name_list):\n",
    "            print '\\nproduct found!\\n'\n",
    "            match=True\n",
    "            \n",
    "name_list=np.asarray(name_list)\n",
    "indexA = np.where(name_list==nameA)[0][0]\n",
    "            \n",
    "print 'your chosen product: {} ({})\\n'.format(nameA,product_db['price'].loc[indexA])\n",
    "print 'ingredients:'\n",
    "print product_db['ingredients'].loc[indexA]\n",
    "\n",
    "print ''\n",
    "url=product_db['image-src'].loc[indexA]\n",
    "Disp.Image(requests.get(url).content,width=100,height=100)"
   ]
  },
  {
   "cell_type": "code",
   "execution_count": 4,
   "metadata": {},
   "outputs": [
    {
     "name": "stdout",
     "output_type": "stream",
     "text": [
      "searching for products similar to cerave skin renewing vitamin c serum...\n",
      "\n",
      "top match(es):\n",
      "\n",
      "cerave hydrating hyaluronic acid serum (Price$18.99)\n",
      "24 shared ingredients\n",
      "\n",
      "murad retinol youth renewal eye serum (Price$85.00)\n",
      "19 shared ingredients\n",
      "\n",
      "nuface trinity facial toning kit + twr attachment set (Price$429.00)\n",
      "17 shared ingredients\n",
      "\n"
     ]
    }
   ],
   "source": [
    "#find 3 most similar products, based on ingredients\n",
    "\n",
    "#format ingredients list\n",
    "try:\n",
    "    listA = product_db['ingredients'].loc[indexA].split(', ')\n",
    "except:\n",
    "    listA=['invalidA']\n",
    "    \n",
    "listA=[ingr.lower() for ingr in listA]\n",
    "\n",
    "num_shared=[]\n",
    "\n",
    "print 'searching for products similar to {}...\\n'.format(nameA)\n",
    "\n",
    "for i in range(0,len(product_db)):\n",
    "    nameB=name_list[i]\n",
    "    \n",
    "    #format ingredients list\n",
    "    try:\n",
    "        listB = product_db['ingredients'].loc[i].split(', ')\n",
    "    except:\n",
    "        listB=['invalidB']\n",
    "        \n",
    "    listB=[ingr.lower() for ingr in listB]\n",
    "        \n",
    "    shared=(set(listA) & set(listB))\n",
    "    if(nameA!=nameB):\n",
    "        num_shared.append(len(shared))\n",
    "    else:\n",
    "        num_shared.append(0)\n",
    "\n",
    "num_shared=np.asarray(num_shared)\n",
    "\n",
    "#if matches exist\n",
    "if(sum(num_shared)>0):\n",
    "    match_indices=[]\n",
    "    shared_ingredients=[]\n",
    "    for i in [0,1,2]: #get top 3 matches\n",
    "        if(sum(num_shared)>0):\n",
    "            #find (next) max value\n",
    "            max_index=np.where(num_shared==max(num_shared))[0][0]\n",
    "            match_indices.append(max_index)\n",
    "            shared_ingredients.append(max(num_shared))\n",
    "            #remove max value\n",
    "            num_shared=np.delete(num_shared,max_index)\n",
    "    \n",
    "    print 'top match(es):\\n'\n",
    "    for i in range(0,len(match_indices)):\n",
    "        index=match_indices[i]\n",
    "        print '{} ({})'.format(name_list[index],product_db['price'].loc[index])\n",
    "        print '{} shared ingredients\\n'.format(shared_ingredients[i])\n",
    "else:\n",
    "    print 'no matches found'"
   ]
  },
  {
   "cell_type": "code",
   "execution_count": null,
   "metadata": {},
   "outputs": [],
   "source": []
  }
 ],
 "metadata": {
  "kernelspec": {
   "display_name": "Python 2",
   "language": "python",
   "name": "python2"
  },
  "language_info": {
   "codemirror_mode": {
    "name": "ipython",
    "version": 2
   },
   "file_extension": ".py",
   "mimetype": "text/x-python",
   "name": "python",
   "nbconvert_exporter": "python",
   "pygments_lexer": "ipython2",
   "version": "2.7.15"
  }
 },
 "nbformat": 4,
 "nbformat_minor": 2
}
