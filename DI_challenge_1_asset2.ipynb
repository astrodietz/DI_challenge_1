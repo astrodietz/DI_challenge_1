{
 "cells": [
  {
   "cell_type": "markdown",
   "metadata": {},
   "source": [
    "this notebook loops through the code from \"DI_challenge1_asset1\" for all products in the database and produces a plot"
   ]
  },
  {
   "cell_type": "code",
   "execution_count": 1,
   "metadata": {},
   "outputs": [],
   "source": [
    "#load all the important stuff\n",
    "import difflib\n",
    "import numpy as np\n",
    "import pandas as pd\n",
    "from difflib import SequenceMatcher\n",
    "\n",
    "from IPython.display import Image\n",
    "import requests\n",
    "import IPython.display as Disp\n",
    "\n",
    "import matplotlib.pyplot as plt\n",
    "\n",
    "#load product database\n",
    "product_file='ulta.csv'\n",
    "product_db=pd.read_csv(product_file)\n",
    "\n",
    "#combine brand + product name\n",
    "brand_plus_name=[str(product_db['brand'].loc[i])+' '+str(product_db['name'].loc[i]) for i in range(0,len(product_db))]\n",
    "product_db['name']=brand_plus_name"
   ]
  },
  {
   "cell_type": "code",
   "execution_count": 2,
   "metadata": {},
   "outputs": [],
   "source": [
    "def find_matches(indexA,nameA):\n",
    "    #find 3 most similar products, based on ingredients\n",
    "\n",
    "    #format ingredients list\n",
    "    try:\n",
    "        listA = product_db['ingredients'].loc[indexA].split(', ')\n",
    "    except:\n",
    "        listA=['invalidA']\n",
    "\n",
    "    listA=[ingr.lower() for ingr in listA]\n",
    "\n",
    "    num_shared=[]\n",
    "\n",
    "    #print 'searching for products similar to {}...\\n'.format(nameA)\n",
    "\n",
    "    for i in range(0,len(product_db)):\n",
    "        nameB=name_list[i]\n",
    "\n",
    "        #format ingredients list\n",
    "        try:\n",
    "            listB = product_db['ingredients'].loc[i].split(', ')\n",
    "        except:\n",
    "            listB=['invalidB']\n",
    "\n",
    "        listB=[ingr.lower() for ingr in listB]\n",
    "\n",
    "        shared=(set(listA) & set(listB))\n",
    "        if(nameA!=nameB):\n",
    "            num_shared.append(len(shared))\n",
    "        else:\n",
    "            num_shared.append(0)\n",
    "\n",
    "    num_shared=np.asarray(num_shared)\n",
    "\n",
    "    return_list=[0,0,0]\n",
    "    #if matches exist\n",
    "    if(sum(num_shared)>0):\n",
    "        match_indices=[]\n",
    "        shared_ingredients=[]\n",
    "        for i in [0,1,2]: #get top 3 matches\n",
    "            if(sum(num_shared)>0):\n",
    "                #find (next) max value\n",
    "                max_index=np.where(num_shared==max(num_shared))[0][0]\n",
    "                match_indices.append(max_index)\n",
    "                shared_ingredients.append(max(num_shared))\n",
    "                #remove max value\n",
    "                num_shared=np.delete(num_shared,max_index)\n",
    "\n",
    "        #print 'top match(es):\\n'\n",
    "        for i in range(0,len(match_indices)):\n",
    "            index=match_indices[i]\n",
    "            #print '{} ({})'.format(name_list[index],product_db['price'].loc[index])\n",
    "            #print '{} shared ingredients\\n'.format(shared_ingredients[i])\n",
    "            return_list[i]=float(shared_ingredients[i])/float(len(listA))*100.\n",
    "\n",
    "    return return_list"
   ]
  },
  {
   "cell_type": "code",
   "execution_count": 3,
   "metadata": {},
   "outputs": [],
   "source": [
    "name_list=[str(product_db['name'].loc[i]).lower() for i in range(0,len(product_db))]\n",
    "\n",
    "hist_list=[]\n",
    "for i in range(0,len(product_db)):\n",
    "    nameA=name_list[i]\n",
    "    indexA=i\n",
    "    returned=find_matches(indexA,nameA)\n",
    "    hist_list.append(max(returned))"
   ]
  },
  {
   "cell_type": "code",
   "execution_count": 4,
   "metadata": {},
   "outputs": [
    {
     "data": {
      "image/png": "[encoded data removed]",
      "text/plain": [
       "<Figure size 432x288 with 1 Axes>"
      ]
     },
     "metadata": {},
     "output_type": "display_data"
    }
   ],
   "source": [
    "bin_range = np.arange(0,105,5)\n",
    "plt.hist(hist_list,bin_range,lw=2,facecolor='lightgray',edgecolor='gray',hatch='//',histtype='stepfilled',alpha=0.5)\n",
    "plt.xlabel('maximum % shared ingredients')\n",
    "plt.ylabel('count')\n",
    "plt.show()"
   ]
  },
  {
   "cell_type": "markdown",
   "metadata": {},
   "source": [
    "This histogram displays information on match results for all products in the database.\n",
    "\n",
    "For each (up to 3) product recommended to the user based on their input product, I calculate what percentage of the input product's ingredients list is found in each recommended product, and include the maximum percentage in the above plot.\n",
    "\n",
    "Note that some of the products in the \"0%\" bin have null ingredients list, and some of the products in the \"100%\" bin have false matches because they appeared on the scraped website more than once.\n",
    "\n",
    "It appears that for the majority of attempted matches, a user can find a \"best match\" that shares >50% of the input product's ingredients. This result will improve with more sophisticated ingredient comparison techniques, as it's likely that many products share common ingredients under varying names."
   ]
  },
  {
   "cell_type": "code",
   "execution_count": null,
   "metadata": {},
   "outputs": [],
   "source": []
  }
 ],
 "metadata": {
  "kernelspec": {
   "display_name": "Python 2",
   "language": "python",
   "name": "python2"
  },
  "language_info": {
   "codemirror_mode": {
    "name": "ipython",
    "version": 2
   },
   "file_extension": ".py",
   "mimetype": "text/x-python",
   "name": "python",
   "nbconvert_exporter": "python",
   "pygments_lexer": "ipython2",
   "version": "2.7.15"
  }
 },
 "nbformat": 4,
 "nbformat_minor": 2
}
